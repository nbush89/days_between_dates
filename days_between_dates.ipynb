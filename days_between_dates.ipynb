{
 "cells": [
  {
   "cell_type": "code",
   "execution_count": 109,
   "metadata": {},
   "outputs": [
    {
     "name": "stdout",
     "output_type": "stream",
     "text": [
      "11517\n"
     ]
    }
   ],
   "source": [
    "\n",
    "def is_leap_year(year):\n",
    "    if year % 100 == 0:\n",
    "        return year % 400 == 0\n",
    "    elif year % 4 == 0:\n",
    "        return True\n",
    "    else:\n",
    "        return False\n",
    "    \n",
    "def daysInMonth(year, month):\n",
    "    if month in (1, 3, 5, 7, 8, 10, 12):\n",
    "        return 31\n",
    "    elif month in (4, 6, 9, 11):\n",
    "        return 30\n",
    "    elif month == 2 and is_leap_year(year):\n",
    "        return 29\n",
    "    else: \n",
    "        return 28\n",
    "\n",
    "def nextDay(y, m, d):\n",
    "    numDays = daysInMonth(y, m)\n",
    "    if d < numDays:\n",
    "        d += 1\n",
    "    elif m == 12 and d == 31:\n",
    "        m = 1\n",
    "        d = 1\n",
    "        y += 1\n",
    "    else:\n",
    "        m += 1\n",
    "        d = 1\n",
    "    return (y, m, d)\n",
    "\n",
    "def dateIsBefore(y1, m1, d1, y2, m2, d2):\n",
    "    if y1 < y2:\n",
    "        return True\n",
    "    elif y1 == y2:\n",
    "        if m1 < m2:\n",
    "            return True\n",
    "        elif m1 == m2:\n",
    "           return d1 < d2\n",
    "    return False\n",
    "        \n",
    "def daysBetweenDates(y1, m1, d1, y2, m2, d2):\n",
    "    days = 0\n",
    "    assert not dateIsBefore(y2, m2, d2, y1, m1, d1)\n",
    "    while dateIsBefore(y1, m1, d1, y2, m2, d2):\n",
    "        y1, m1, d1 = nextDay(y1, m1, d1)\n",
    "        days += 1\n",
    "    return days\n",
    "\n",
    "\n",
    "\n",
    "print(daysBetweenDates(1989, 4, 30, 2020, 11, 10))\n"
   ]
  },
  {
   "cell_type": "code",
   "execution_count": 110,
   "metadata": {},
   "outputs": [
    {
     "name": "stdout",
     "output_type": "stream",
     "text": [
      "[1, 2, 3]\n"
     ]
    },
    {
     "data": {
      "text/plain": [
       "False"
      ]
     },
     "execution_count": 110,
     "metadata": {},
     "output_type": "execute_result"
    }
   ],
   "source": [
    "correct = [[1,2,4], [2,3,1], [3,1,2]]\n",
    "\n",
    "def check_sudoku(square):\n",
    "    for row in square:\n",
    "        check_list = list(range(1, len(square[0]) + 1))\n",
    "        print(check_list)\n",
    "        for i in row: \n",
    "            if i not in check_list:\n",
    "                return False;\n",
    "            check_list.remove(i)\n",
    "    for n in range(len(square[0])):\n",
    "        check_list = list(range(1, len(square[0]) + 1))\n",
    "        for row in square:\n",
    "            if row[n] not in check_list:\n",
    "                return False\n",
    "            check_list.remove(row[n])\n",
    "    return True\n",
    "\n",
    "\n",
    "\n",
    "check_sudoku(correct)"
   ]
  }
 ],
 "metadata": {
  "interpreter": {
   "hash": "1246477a8e8169f01de36c0e69700399dcad177c435108dd2c8da91e6fff372e"
  },
  "kernelspec": {
   "display_name": "Python 3.9.6 64-bit",
   "name": "python3"
  },
  "language_info": {
   "codemirror_mode": {
    "name": "ipython",
    "version": 3
   },
   "file_extension": ".py",
   "mimetype": "text/x-python",
   "name": "python",
   "nbconvert_exporter": "python",
   "pygments_lexer": "ipython3",
   "version": "3.9.6"
  },
  "orig_nbformat": 4
 },
 "nbformat": 4,
 "nbformat_minor": 2
}
